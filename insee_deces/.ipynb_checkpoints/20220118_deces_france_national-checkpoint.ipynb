{
 "cells": [
  {
   "cell_type": "code",
   "execution_count": 2,
   "id": "3747ca7d",
   "metadata": {},
   "outputs": [
    {
     "data": {
      "text/html": [
       "<style>.container { width:100% !important; }</style>"
      ],
      "text/plain": [
       "<IPython.core.display.HTML object>"
      ]
     },
     "metadata": {},
     "output_type": "display_data"
    }
   ],
   "source": [
    "import pandas as pd\n",
    "import matplotlib.pyplot as plt\n",
    "import matplotlib.dates as mdates\n",
    "import matplotlib.pyplot as plt\n",
    "import numpy as np\n",
    "import warnings\n",
    "warnings.filterwarnings(\"ignore\")\n",
    "import dash\n",
    "import dash_core_components as dcc\n",
    "import dash_html_components as html\n",
    "from dash.dependencies import Input, Output\n",
    "import plotly.express as px\n",
    "import plotly.figure_factory as ff\n",
    "import json\n",
    "import geojson\n",
    "import requests\n",
    "import plotly.graph_objs as go\n",
    "import plotly.graph_objects as go\n",
    "\n",
    "from plotly.subplots import make_subplots\n",
    "\n",
    "from IPython.core.display import display, HTML\n",
    "display(HTML(\"<style>.container { width:100% !important; }</style>\"))\n",
    "\n",
    "#%matplotlib notebook\n",
    "pd.options.display.max_columns = 150\n",
    "pd.options.display.max_rows = 2000\n",
    "\n",
    "data_root = '/Users/charlessimpson/Library/Mobile Documents/com~apple~CloudDocs/Documents/WorkspacePython/DATA/SQL/'"
   ]
  },
  {
   "cell_type": "code",
   "execution_count": 17,
   "id": "3ca03a42",
   "metadata": {},
   "outputs": [
    {
     "data": {
      "text/html": [
       "<div>\n",
       "<style scoped>\n",
       "    .dataframe tbody tr th:only-of-type {\n",
       "        vertical-align: middle;\n",
       "    }\n",
       "\n",
       "    .dataframe tbody tr th {\n",
       "        vertical-align: top;\n",
       "    }\n",
       "\n",
       "    .dataframe thead th {\n",
       "        text-align: right;\n",
       "    }\n",
       "</style>\n",
       "<table border=\"1\" class=\"dataframe\">\n",
       "  <thead>\n",
       "    <tr style=\"text-align: right;\">\n",
       "      <th></th>\n",
       "      <th>Unnamed: 0</th>\n",
       "      <th>nom</th>\n",
       "      <th>sexe</th>\n",
       "      <th>date_naiss</th>\n",
       "      <th>dpt_lieu_naiss</th>\n",
       "      <th>ville</th>\n",
       "      <th>pays</th>\n",
       "      <th>date_dc</th>\n",
       "      <th>dpt_lieu_dc</th>\n",
       "      <th>dpt_lieu_deces</th>\n",
       "      <th>date_deces</th>\n",
       "      <th>year</th>\n",
       "      <th>month</th>\n",
       "    </tr>\n",
       "  </thead>\n",
       "  <tbody>\n",
       "    <tr>\n",
       "      <th>1213280</th>\n",
       "      <td>75675</td>\n",
       "      <td>DUPUYDUPIN*MADELEINE LOUISE AUGUSTINE/</td>\n",
       "      <td>2</td>\n",
       "      <td>19240806</td>\n",
       "      <td>86037</td>\n",
       "      <td>BRIGUEIL LE CHANTRE</td>\n",
       "      <td>NaN</td>\n",
       "      <td>20001208.0</td>\n",
       "      <td>86037</td>\n",
       "      <td>13</td>\n",
       "      <td>2000-12-08</td>\n",
       "      <td>2000</td>\n",
       "      <td>200012</td>\n",
       "    </tr>\n",
       "    <tr>\n",
       "      <th>10203900</th>\n",
       "      <td>8807</td>\n",
       "      <td>BRUNEBARBE*NELLY/</td>\n",
       "      <td>2</td>\n",
       "      <td>19581218</td>\n",
       "      <td>17241</td>\n",
       "      <td>MONTGUYON</td>\n",
       "      <td>NaN</td>\n",
       "      <td>20180101.0</td>\n",
       "      <td>17299</td>\n",
       "      <td>11</td>\n",
       "      <td>2018-01-01</td>\n",
       "      <td>2018</td>\n",
       "      <td>201801</td>\n",
       "    </tr>\n",
       "    <tr>\n",
       "      <th>1043710</th>\n",
       "      <td>473216</td>\n",
       "      <td>ASTON*ANNETTE EUGENIE/</td>\n",
       "      <td>2</td>\n",
       "      <td>19140623</td>\n",
       "      <td>75114</td>\n",
       "      <td>PARIS 14</td>\n",
       "      <td>NaN</td>\n",
       "      <td>20010502.0</td>\n",
       "      <td>77293</td>\n",
       "      <td>5</td>\n",
       "      <td>2001-05-02</td>\n",
       "      <td>2001</td>\n",
       "      <td>200105</td>\n",
       "    </tr>\n",
       "  </tbody>\n",
       "</table>\n",
       "</div>"
      ],
      "text/plain": [
       "          Unnamed: 0                                     nom  sexe  \\\n",
       "1213280        75675  DUPUYDUPIN*MADELEINE LOUISE AUGUSTINE/     2   \n",
       "10203900        8807                       BRUNEBARBE*NELLY/     2   \n",
       "1043710       473216                  ASTON*ANNETTE EUGENIE/     2   \n",
       "\n",
       "          date_naiss dpt_lieu_naiss                ville pays     date_dc  \\\n",
       "1213280     19240806          86037  BRIGUEIL LE CHANTRE  NaN  20001208.0   \n",
       "10203900    19581218          17241            MONTGUYON  NaN  20180101.0   \n",
       "1043710     19140623          75114             PARIS 14  NaN  20010502.0   \n",
       "\n",
       "         dpt_lieu_dc dpt_lieu_deces  date_deces  year   month  \n",
       "1213280        86037             13  2000-12-08  2000  200012  \n",
       "10203900       17299             11  2018-01-01  2018  201801  \n",
       "1043710        77293              5  2001-05-02  2001  200105  "
      ]
     },
     "execution_count": 17,
     "metadata": {},
     "output_type": "execute_result"
    }
   ],
   "source": [
    "db = pd.read_csv('../csv/db_deces_2000_2021.csv', sep=';')\n",
    "db.sample(3)"
   ]
  },
  {
   "cell_type": "code",
   "execution_count": 15,
   "id": "8a241416",
   "metadata": {},
   "outputs": [
    {
     "data": {
      "text/plain": [
       "dtype('int64')"
      ]
     },
     "execution_count": 15,
     "metadata": {},
     "output_type": "execute_result"
    }
   ],
   "source": [
    "db.year.dtype"
   ]
  },
  {
   "cell_type": "code",
   "execution_count": 4,
   "id": "aa10e007",
   "metadata": {},
   "outputs": [
    {
     "data": {
      "text/html": [
       "<div>\n",
       "<style scoped>\n",
       "    .dataframe tbody tr th:only-of-type {\n",
       "        vertical-align: middle;\n",
       "    }\n",
       "\n",
       "    .dataframe tbody tr th {\n",
       "        vertical-align: top;\n",
       "    }\n",
       "\n",
       "    .dataframe thead th {\n",
       "        text-align: right;\n",
       "    }\n",
       "</style>\n",
       "<table border=\"1\" class=\"dataframe\">\n",
       "  <thead>\n",
       "    <tr style=\"text-align: right;\">\n",
       "      <th></th>\n",
       "      <th>Unnamed: 0</th>\n",
       "      <th>nom</th>\n",
       "      <th>sexe</th>\n",
       "      <th>date_naiss</th>\n",
       "      <th>dpt_lieu_naiss</th>\n",
       "      <th>ville</th>\n",
       "      <th>pays</th>\n",
       "      <th>date_dc</th>\n",
       "      <th>dpt_lieu_dc</th>\n",
       "      <th>dpt_lieu_deces</th>\n",
       "      <th>date_deces</th>\n",
       "      <th>year</th>\n",
       "      <th>month</th>\n",
       "      <th>diff_in_D</th>\n",
       "      <th>diff_in_Y</th>\n",
       "    </tr>\n",
       "  </thead>\n",
       "  <tbody>\n",
       "    <tr>\n",
       "      <th>5302085</th>\n",
       "      <td>321958</td>\n",
       "      <td>GIMENEZ*GINES/</td>\n",
       "      <td>1</td>\n",
       "      <td>19330224</td>\n",
       "      <td>99352</td>\n",
       "      <td>SIDI BEL ABBES</td>\n",
       "      <td>ALGERIE</td>\n",
       "      <td>20090717.0</td>\n",
       "      <td>06088</td>\n",
       "      <td>2852</td>\n",
       "      <td>2009-07-17</td>\n",
       "      <td>2009</td>\n",
       "      <td>200907</td>\n",
       "      <td>760493.0</td>\n",
       "      <td>76.0493</td>\n",
       "    </tr>\n",
       "    <tr>\n",
       "      <th>11006325</th>\n",
       "      <td>191140</td>\n",
       "      <td>MILLAN*JEAN GEORGES/</td>\n",
       "      <td>1</td>\n",
       "      <td>19370423</td>\n",
       "      <td>34063</td>\n",
       "      <td>CAUX</td>\n",
       "      <td>NaN</td>\n",
       "      <td>20190416.0</td>\n",
       "      <td>34199</td>\n",
       "      <td>71</td>\n",
       "      <td>2019-04-16</td>\n",
       "      <td>2019</td>\n",
       "      <td>201904</td>\n",
       "      <td>819993.0</td>\n",
       "      <td>81.9993</td>\n",
       "    </tr>\n",
       "    <tr>\n",
       "      <th>10457510</th>\n",
       "      <td>262430</td>\n",
       "      <td>PARDON*DENISE ANNE MARIE BENEDICTE/</td>\n",
       "      <td>2</td>\n",
       "      <td>19331010</td>\n",
       "      <td>69385</td>\n",
       "      <td>LYON 5E  ARRONDISSEMENT</td>\n",
       "      <td>NaN</td>\n",
       "      <td>20180508.0</td>\n",
       "      <td>69387</td>\n",
       "      <td>271</td>\n",
       "      <td>2018-05-08</td>\n",
       "      <td>2018</td>\n",
       "      <td>201805</td>\n",
       "      <td>849498.0</td>\n",
       "      <td>84.9498</td>\n",
       "    </tr>\n",
       "  </tbody>\n",
       "</table>\n",
       "</div>"
      ],
      "text/plain": [
       "          Unnamed: 0                                  nom  sexe  date_naiss  \\\n",
       "5302085       321958                       GIMENEZ*GINES/     1    19330224   \n",
       "11006325      191140                 MILLAN*JEAN GEORGES/     1    19370423   \n",
       "10457510      262430  PARDON*DENISE ANNE MARIE BENEDICTE/     2    19331010   \n",
       "\n",
       "         dpt_lieu_naiss                    ville     pays     date_dc  \\\n",
       "5302085           99352           SIDI BEL ABBES  ALGERIE  20090717.0   \n",
       "11006325          34063                     CAUX      NaN  20190416.0   \n",
       "10457510          69385  LYON 5E  ARRONDISSEMENT      NaN  20180508.0   \n",
       "\n",
       "         dpt_lieu_dc dpt_lieu_deces  date_deces  year   month  diff_in_D  \\\n",
       "5302085        06088           2852  2009-07-17  2009  200907   760493.0   \n",
       "11006325       34199             71  2019-04-16  2019  201904   819993.0   \n",
       "10457510       69387            271  2018-05-08  2018  201805   849498.0   \n",
       "\n",
       "          diff_in_Y  \n",
       "5302085     76.0493  \n",
       "11006325    81.9993  \n",
       "10457510    84.9498  "
      ]
     },
     "execution_count": 4,
     "metadata": {},
     "output_type": "execute_result"
    }
   ],
   "source": [
    "# je calcu l'age de décès du défunt\n",
    "db['diff_in_D'] = abs(db['date_dc'] - db['date_naiss'])\n",
    "db['diff_in_Y']=db['diff_in_D']/10000\n",
    "db.sample(3)"
   ]
  },
  {
   "cell_type": "code",
   "execution_count": 11,
   "id": "fcfb0b52",
   "metadata": {},
   "outputs": [
    {
     "data": {
      "text/html": [
       "<div>\n",
       "<style scoped>\n",
       "    .dataframe tbody tr th:only-of-type {\n",
       "        vertical-align: middle;\n",
       "    }\n",
       "\n",
       "    .dataframe tbody tr th {\n",
       "        vertical-align: top;\n",
       "    }\n",
       "\n",
       "    .dataframe thead th {\n",
       "        text-align: right;\n",
       "    }\n",
       "</style>\n",
       "<table border=\"1\" class=\"dataframe\">\n",
       "  <thead>\n",
       "    <tr style=\"text-align: right;\">\n",
       "      <th></th>\n",
       "      <th>year</th>\n",
       "      <th>count</th>\n",
       "      <th>mean</th>\n",
       "    </tr>\n",
       "  </thead>\n",
       "  <tbody>\n",
       "    <tr>\n",
       "      <th>126</th>\n",
       "      <td>2020</td>\n",
       "      <td>677176</td>\n",
       "      <td>79.801243</td>\n",
       "    </tr>\n",
       "    <tr>\n",
       "      <th>127</th>\n",
       "      <td>2021</td>\n",
       "      <td>656587</td>\n",
       "      <td>79.534152</td>\n",
       "    </tr>\n",
       "  </tbody>\n",
       "</table>\n",
       "</div>"
      ],
      "text/plain": [
       "     year   count       mean\n",
       "126  2020  677176  79.801243\n",
       "127  2021  656587  79.534152"
      ]
     },
     "execution_count": 11,
     "metadata": {},
     "output_type": "execute_result"
    }
   ],
   "source": [
    "# evolution du nombre de décès et l'âge moyen\n",
    "db_age_moyen = db.groupby(['year'])['diff_in_Y'].agg(['count','mean']).reset_index()\n",
    "db_age_moyen=db_age_moyen[db_age_moyen['year']>2000]\n",
    "db_age_moyen.tail(2)"
   ]
  },
  {
   "cell_type": "code",
   "execution_count": 12,
   "id": "66a756a2",
   "metadata": {},
   "outputs": [
    {
     "data": {
      "text/html": [
       "<div>\n",
       "<style scoped>\n",
       "    .dataframe tbody tr th:only-of-type {\n",
       "        vertical-align: middle;\n",
       "    }\n",
       "\n",
       "    .dataframe tbody tr th {\n",
       "        vertical-align: top;\n",
       "    }\n",
       "\n",
       "    .dataframe thead th {\n",
       "        text-align: right;\n",
       "    }\n",
       "</style>\n",
       "<table border=\"1\" class=\"dataframe\">\n",
       "  <thead>\n",
       "    <tr style=\"text-align: right;\">\n",
       "      <th></th>\n",
       "      <th>Unnamed: 0</th>\n",
       "      <th>nom</th>\n",
       "      <th>sexe</th>\n",
       "      <th>date_naiss</th>\n",
       "      <th>dpt_lieu_naiss</th>\n",
       "      <th>ville</th>\n",
       "      <th>pays</th>\n",
       "      <th>date_dc</th>\n",
       "      <th>dpt_lieu_dc</th>\n",
       "      <th>dpt_lieu_deces</th>\n",
       "      <th>date_deces</th>\n",
       "      <th>year</th>\n",
       "      <th>month</th>\n",
       "      <th>diff_in_D</th>\n",
       "      <th>diff_in_Y</th>\n",
       "    </tr>\n",
       "  </thead>\n",
       "  <tbody>\n",
       "    <tr>\n",
       "      <th>7746398</th>\n",
       "      <td>529063</td>\n",
       "      <td>CARTOUX*THERESE/</td>\n",
       "      <td>2</td>\n",
       "      <td>18901006</td>\n",
       "      <td>84148</td>\n",
       "      <td>VILLES-SUR-AUZON</td>\n",
       "      <td>NaN</td>\n",
       "      <td>20130502.0</td>\n",
       "      <td>84054</td>\n",
       "      <td>65</td>\n",
       "      <td>2013-05-02</td>\n",
       "      <td>2013</td>\n",
       "      <td>201305</td>\n",
       "      <td>1229496.0</td>\n",
       "      <td>122.9496</td>\n",
       "    </tr>\n",
       "    <tr>\n",
       "      <th>8557135</th>\n",
       "      <td>187805</td>\n",
       "      <td>KERMICHE*MESSAOUDA/</td>\n",
       "      <td>2</td>\n",
       "      <td>18940000</td>\n",
       "      <td>93352</td>\n",
       "      <td>DEPARTEMENT DE CONSTANTINE</td>\n",
       "      <td>NaN</td>\n",
       "      <td>20150416.0</td>\n",
       "      <td>26281</td>\n",
       "      <td>221</td>\n",
       "      <td>2015-04-16</td>\n",
       "      <td>2015</td>\n",
       "      <td>201504</td>\n",
       "      <td>1210416.0</td>\n",
       "      <td>121.0416</td>\n",
       "    </tr>\n",
       "  </tbody>\n",
       "</table>\n",
       "</div>"
      ],
      "text/plain": [
       "         Unnamed: 0                  nom  sexe  date_naiss dpt_lieu_naiss  \\\n",
       "7746398      529063     CARTOUX*THERESE/     2    18901006          84148   \n",
       "8557135      187805  KERMICHE*MESSAOUDA/     2    18940000          93352   \n",
       "\n",
       "                              ville pays     date_dc dpt_lieu_dc  \\\n",
       "7746398            VILLES-SUR-AUZON  NaN  20130502.0       84054   \n",
       "8557135  DEPARTEMENT DE CONSTANTINE  NaN  20150416.0       26281   \n",
       "\n",
       "        dpt_lieu_deces  date_deces  year   month  diff_in_D  diff_in_Y  \n",
       "7746398             65  2013-05-02  2013  201305  1229496.0   122.9496  \n",
       "8557135            221  2015-04-16  2015  201504  1210416.0   121.0416  "
      ]
     },
     "execution_count": 12,
     "metadata": {},
     "output_type": "execute_result"
    }
   ],
   "source": [
    "# je calcu l'age de décès du défunt\n",
    "db=db[db['diff_in_Y']<=125]\n",
    "db['diff_in_D'] = abs(db['date_dc'] - db['date_naiss'])\n",
    "db['diff_in_Y']=db['diff_in_D']/10000\n",
    "db.sort_values(by='diff_in_Y', ascending=False).head(2)"
   ]
  },
  {
   "cell_type": "code",
   "execution_count": 13,
   "id": "8ba0f6d2",
   "metadata": {},
   "outputs": [
    {
     "data": {
      "application/vnd.plotly.v1+json": {
       "config": {
        "plotlyServerURL": "https://plot.ly"
       },
       "data": [
        {
         "name": "Evolution du nombre de décès",
         "type": "bar",
         "x": [
          2001,
          2002,
          2003,
          2004,
          2005,
          2006,
          2007,
          2008,
          2009,
          2010,
          2011,
          2012,
          2013,
          2014,
          2015,
          2016,
          2017,
          2018,
          2019,
          2020,
          2021
         ],
         "xaxis": "x",
         "y": [
          550784,
          552786,
          570981,
          526888,
          546039,
          533629,
          538448,
          550139,
          556146,
          557142,
          549039,
          578435,
          577644,
          567652,
          601980,
          602361,
          615665,
          618722,
          621861,
          677176,
          656587
         ],
         "yaxis": "y"
        },
        {
         "name": "Evolution de l'âge moyen",
         "type": "scatter",
         "x": [
          2001,
          2002,
          2003,
          2004,
          2005,
          2006,
          2007,
          2008,
          2009,
          2010,
          2011,
          2012,
          2013,
          2014,
          2015,
          2016,
          2017,
          2018,
          2019,
          2020,
          2021
         ],
         "xaxis": "x",
         "y": [
          75.26894790916222,
          75.53492844916478,
          75.96411752860428,
          75.59311701595027,
          76.03145515045628,
          75.99026920294811,
          76.29081535654325,
          76.57894775756672,
          76.74134442484528,
          76.99549584522438,
          77.21532114986367,
          77.7551389317728,
          77.89755197128335,
          78.00057183943684,
          78.54013152978504,
          78.69342996093705,
          79.00885715413415,
          79.10978685467786,
          79.29133250034975,
          79.80124347673278,
          79.5341520305763
         ],
         "yaxis": "y2"
        }
       ],
       "layout": {
        "template": {
         "data": {
          "bar": [
           {
            "error_x": {
             "color": "#2a3f5f"
            },
            "error_y": {
             "color": "#2a3f5f"
            },
            "marker": {
             "line": {
              "color": "#E5ECF6",
              "width": 0.5
             },
             "pattern": {
              "fillmode": "overlay",
              "size": 10,
              "solidity": 0.2
             }
            },
            "type": "bar"
           }
          ],
          "barpolar": [
           {
            "marker": {
             "line": {
              "color": "#E5ECF6",
              "width": 0.5
             },
             "pattern": {
              "fillmode": "overlay",
              "size": 10,
              "solidity": 0.2
             }
            },
            "type": "barpolar"
           }
          ],
          "carpet": [
           {
            "aaxis": {
             "endlinecolor": "#2a3f5f",
             "gridcolor": "white",
             "linecolor": "white",
             "minorgridcolor": "white",
             "startlinecolor": "#2a3f5f"
            },
            "baxis": {
             "endlinecolor": "#2a3f5f",
             "gridcolor": "white",
             "linecolor": "white",
             "minorgridcolor": "white",
             "startlinecolor": "#2a3f5f"
            },
            "type": "carpet"
           }
          ],
          "choropleth": [
           {
            "colorbar": {
             "outlinewidth": 0,
             "ticks": ""
            },
            "type": "choropleth"
           }
          ],
          "contour": [
           {
            "colorbar": {
             "outlinewidth": 0,
             "ticks": ""
            },
            "colorscale": [
             [
              0,
              "#0d0887"
             ],
             [
              0.1111111111111111,
              "#46039f"
             ],
             [
              0.2222222222222222,
              "#7201a8"
             ],
             [
              0.3333333333333333,
              "#9c179e"
             ],
             [
              0.4444444444444444,
              "#bd3786"
             ],
             [
              0.5555555555555556,
              "#d8576b"
             ],
             [
              0.6666666666666666,
              "#ed7953"
             ],
             [
              0.7777777777777778,
              "#fb9f3a"
             ],
             [
              0.8888888888888888,
              "#fdca26"
             ],
             [
              1,
              "#f0f921"
             ]
            ],
            "type": "contour"
           }
          ],
          "contourcarpet": [
           {
            "colorbar": {
             "outlinewidth": 0,
             "ticks": ""
            },
            "type": "contourcarpet"
           }
          ],
          "heatmap": [
           {
            "colorbar": {
             "outlinewidth": 0,
             "ticks": ""
            },
            "colorscale": [
             [
              0,
              "#0d0887"
             ],
             [
              0.1111111111111111,
              "#46039f"
             ],
             [
              0.2222222222222222,
              "#7201a8"
             ],
             [
              0.3333333333333333,
              "#9c179e"
             ],
             [
              0.4444444444444444,
              "#bd3786"
             ],
             [
              0.5555555555555556,
              "#d8576b"
             ],
             [
              0.6666666666666666,
              "#ed7953"
             ],
             [
              0.7777777777777778,
              "#fb9f3a"
             ],
             [
              0.8888888888888888,
              "#fdca26"
             ],
             [
              1,
              "#f0f921"
             ]
            ],
            "type": "heatmap"
           }
          ],
          "heatmapgl": [
           {
            "colorbar": {
             "outlinewidth": 0,
             "ticks": ""
            },
            "colorscale": [
             [
              0,
              "#0d0887"
             ],
             [
              0.1111111111111111,
              "#46039f"
             ],
             [
              0.2222222222222222,
              "#7201a8"
             ],
             [
              0.3333333333333333,
              "#9c179e"
             ],
             [
              0.4444444444444444,
              "#bd3786"
             ],
             [
              0.5555555555555556,
              "#d8576b"
             ],
             [
              0.6666666666666666,
              "#ed7953"
             ],
             [
              0.7777777777777778,
              "#fb9f3a"
             ],
             [
              0.8888888888888888,
              "#fdca26"
             ],
             [
              1,
              "#f0f921"
             ]
            ],
            "type": "heatmapgl"
           }
          ],
          "histogram": [
           {
            "marker": {
             "pattern": {
              "fillmode": "overlay",
              "size": 10,
              "solidity": 0.2
             }
            },
            "type": "histogram"
           }
          ],
          "histogram2d": [
           {
            "colorbar": {
             "outlinewidth": 0,
             "ticks": ""
            },
            "colorscale": [
             [
              0,
              "#0d0887"
             ],
             [
              0.1111111111111111,
              "#46039f"
             ],
             [
              0.2222222222222222,
              "#7201a8"
             ],
             [
              0.3333333333333333,
              "#9c179e"
             ],
             [
              0.4444444444444444,
              "#bd3786"
             ],
             [
              0.5555555555555556,
              "#d8576b"
             ],
             [
              0.6666666666666666,
              "#ed7953"
             ],
             [
              0.7777777777777778,
              "#fb9f3a"
             ],
             [
              0.8888888888888888,
              "#fdca26"
             ],
             [
              1,
              "#f0f921"
             ]
            ],
            "type": "histogram2d"
           }
          ],
          "histogram2dcontour": [
           {
            "colorbar": {
             "outlinewidth": 0,
             "ticks": ""
            },
            "colorscale": [
             [
              0,
              "#0d0887"
             ],
             [
              0.1111111111111111,
              "#46039f"
             ],
             [
              0.2222222222222222,
              "#7201a8"
             ],
             [
              0.3333333333333333,
              "#9c179e"
             ],
             [
              0.4444444444444444,
              "#bd3786"
             ],
             [
              0.5555555555555556,
              "#d8576b"
             ],
             [
              0.6666666666666666,
              "#ed7953"
             ],
             [
              0.7777777777777778,
              "#fb9f3a"
             ],
             [
              0.8888888888888888,
              "#fdca26"
             ],
             [
              1,
              "#f0f921"
             ]
            ],
            "type": "histogram2dcontour"
           }
          ],
          "mesh3d": [
           {
            "colorbar": {
             "outlinewidth": 0,
             "ticks": ""
            },
            "type": "mesh3d"
           }
          ],
          "parcoords": [
           {
            "line": {
             "colorbar": {
              "outlinewidth": 0,
              "ticks": ""
             }
            },
            "type": "parcoords"
           }
          ],
          "pie": [
           {
            "automargin": true,
            "type": "pie"
           }
          ],
          "scatter": [
           {
            "marker": {
             "colorbar": {
              "outlinewidth": 0,
              "ticks": ""
             }
            },
            "type": "scatter"
           }
          ],
          "scatter3d": [
           {
            "line": {
             "colorbar": {
              "outlinewidth": 0,
              "ticks": ""
             }
            },
            "marker": {
             "colorbar": {
              "outlinewidth": 0,
              "ticks": ""
             }
            },
            "type": "scatter3d"
           }
          ],
          "scattercarpet": [
           {
            "marker": {
             "colorbar": {
              "outlinewidth": 0,
              "ticks": ""
             }
            },
            "type": "scattercarpet"
           }
          ],
          "scattergeo": [
           {
            "marker": {
             "colorbar": {
              "outlinewidth": 0,
              "ticks": ""
             }
            },
            "type": "scattergeo"
           }
          ],
          "scattergl": [
           {
            "marker": {
             "colorbar": {
              "outlinewidth": 0,
              "ticks": ""
             }
            },
            "type": "scattergl"
           }
          ],
          "scattermapbox": [
           {
            "marker": {
             "colorbar": {
              "outlinewidth": 0,
              "ticks": ""
             }
            },
            "type": "scattermapbox"
           }
          ],
          "scatterpolar": [
           {
            "marker": {
             "colorbar": {
              "outlinewidth": 0,
              "ticks": ""
             }
            },
            "type": "scatterpolar"
           }
          ],
          "scatterpolargl": [
           {
            "marker": {
             "colorbar": {
              "outlinewidth": 0,
              "ticks": ""
             }
            },
            "type": "scatterpolargl"
           }
          ],
          "scatterternary": [
           {
            "marker": {
             "colorbar": {
              "outlinewidth": 0,
              "ticks": ""
             }
            },
            "type": "scatterternary"
           }
          ],
          "surface": [
           {
            "colorbar": {
             "outlinewidth": 0,
             "ticks": ""
            },
            "colorscale": [
             [
              0,
              "#0d0887"
             ],
             [
              0.1111111111111111,
              "#46039f"
             ],
             [
              0.2222222222222222,
              "#7201a8"
             ],
             [
              0.3333333333333333,
              "#9c179e"
             ],
             [
              0.4444444444444444,
              "#bd3786"
             ],
             [
              0.5555555555555556,
              "#d8576b"
             ],
             [
              0.6666666666666666,
              "#ed7953"
             ],
             [
              0.7777777777777778,
              "#fb9f3a"
             ],
             [
              0.8888888888888888,
              "#fdca26"
             ],
             [
              1,
              "#f0f921"
             ]
            ],
            "type": "surface"
           }
          ],
          "table": [
           {
            "cells": {
             "fill": {
              "color": "#EBF0F8"
             },
             "line": {
              "color": "white"
             }
            },
            "header": {
             "fill": {
              "color": "#C8D4E3"
             },
             "line": {
              "color": "white"
             }
            },
            "type": "table"
           }
          ]
         },
         "layout": {
          "annotationdefaults": {
           "arrowcolor": "#2a3f5f",
           "arrowhead": 0,
           "arrowwidth": 1
          },
          "autotypenumbers": "strict",
          "coloraxis": {
           "colorbar": {
            "outlinewidth": 0,
            "ticks": ""
           }
          },
          "colorscale": {
           "diverging": [
            [
             0,
             "#8e0152"
            ],
            [
             0.1,
             "#c51b7d"
            ],
            [
             0.2,
             "#de77ae"
            ],
            [
             0.3,
             "#f1b6da"
            ],
            [
             0.4,
             "#fde0ef"
            ],
            [
             0.5,
             "#f7f7f7"
            ],
            [
             0.6,
             "#e6f5d0"
            ],
            [
             0.7,
             "#b8e186"
            ],
            [
             0.8,
             "#7fbc41"
            ],
            [
             0.9,
             "#4d9221"
            ],
            [
             1,
             "#276419"
            ]
           ],
           "sequential": [
            [
             0,
             "#0d0887"
            ],
            [
             0.1111111111111111,
             "#46039f"
            ],
            [
             0.2222222222222222,
             "#7201a8"
            ],
            [
             0.3333333333333333,
             "#9c179e"
            ],
            [
             0.4444444444444444,
             "#bd3786"
            ],
            [
             0.5555555555555556,
             "#d8576b"
            ],
            [
             0.6666666666666666,
             "#ed7953"
            ],
            [
             0.7777777777777778,
             "#fb9f3a"
            ],
            [
             0.8888888888888888,
             "#fdca26"
            ],
            [
             1,
             "#f0f921"
            ]
           ],
           "sequentialminus": [
            [
             0,
             "#0d0887"
            ],
            [
             0.1111111111111111,
             "#46039f"
            ],
            [
             0.2222222222222222,
             "#7201a8"
            ],
            [
             0.3333333333333333,
             "#9c179e"
            ],
            [
             0.4444444444444444,
             "#bd3786"
            ],
            [
             0.5555555555555556,
             "#d8576b"
            ],
            [
             0.6666666666666666,
             "#ed7953"
            ],
            [
             0.7777777777777778,
             "#fb9f3a"
            ],
            [
             0.8888888888888888,
             "#fdca26"
            ],
            [
             1,
             "#f0f921"
            ]
           ]
          },
          "colorway": [
           "#636efa",
           "#EF553B",
           "#00cc96",
           "#ab63fa",
           "#FFA15A",
           "#19d3f3",
           "#FF6692",
           "#B6E880",
           "#FF97FF",
           "#FECB52"
          ],
          "font": {
           "color": "#2a3f5f"
          },
          "geo": {
           "bgcolor": "white",
           "lakecolor": "white",
           "landcolor": "#E5ECF6",
           "showlakes": true,
           "showland": true,
           "subunitcolor": "white"
          },
          "hoverlabel": {
           "align": "left"
          },
          "hovermode": "closest",
          "mapbox": {
           "style": "light"
          },
          "paper_bgcolor": "white",
          "plot_bgcolor": "#E5ECF6",
          "polar": {
           "angularaxis": {
            "gridcolor": "white",
            "linecolor": "white",
            "ticks": ""
           },
           "bgcolor": "#E5ECF6",
           "radialaxis": {
            "gridcolor": "white",
            "linecolor": "white",
            "ticks": ""
           }
          },
          "scene": {
           "xaxis": {
            "backgroundcolor": "#E5ECF6",
            "gridcolor": "white",
            "gridwidth": 2,
            "linecolor": "white",
            "showbackground": true,
            "ticks": "",
            "zerolinecolor": "white"
           },
           "yaxis": {
            "backgroundcolor": "#E5ECF6",
            "gridcolor": "white",
            "gridwidth": 2,
            "linecolor": "white",
            "showbackground": true,
            "ticks": "",
            "zerolinecolor": "white"
           },
           "zaxis": {
            "backgroundcolor": "#E5ECF6",
            "gridcolor": "white",
            "gridwidth": 2,
            "linecolor": "white",
            "showbackground": true,
            "ticks": "",
            "zerolinecolor": "white"
           }
          },
          "shapedefaults": {
           "line": {
            "color": "#2a3f5f"
           }
          },
          "ternary": {
           "aaxis": {
            "gridcolor": "white",
            "linecolor": "white",
            "ticks": ""
           },
           "baxis": {
            "gridcolor": "white",
            "linecolor": "white",
            "ticks": ""
           },
           "bgcolor": "#E5ECF6",
           "caxis": {
            "gridcolor": "white",
            "linecolor": "white",
            "ticks": ""
           }
          },
          "title": {
           "x": 0.05
          },
          "xaxis": {
           "automargin": true,
           "gridcolor": "white",
           "linecolor": "white",
           "ticks": "",
           "title": {
            "standoff": 15
           },
           "zerolinecolor": "white",
           "zerolinewidth": 2
          },
          "yaxis": {
           "automargin": true,
           "gridcolor": "white",
           "linecolor": "white",
           "ticks": "",
           "title": {
            "standoff": 15
           },
           "zerolinecolor": "white",
           "zerolinewidth": 2
          }
         }
        },
        "title": {
         "text": "Nombre de décès par mois"
        },
        "xaxis": {
         "anchor": "y",
         "domain": [
          0,
          0.94
         ]
        },
        "yaxis": {
         "anchor": "x",
         "domain": [
          0,
          1
         ]
        },
        "yaxis2": {
         "anchor": "x",
         "overlaying": "y",
         "side": "right"
        }
       }
      },
      "text/html": [
       "<div>                            <div id=\"83ad1a8c-2b85-440e-ba9a-0b0f7097af63\" class=\"plotly-graph-div\" style=\"height:525px; width:100%;\"></div>            <script type=\"text/javascript\">                require([\"plotly\"], function(Plotly) {                    window.PLOTLYENV=window.PLOTLYENV || {};                                    if (document.getElementById(\"83ad1a8c-2b85-440e-ba9a-0b0f7097af63\")) {                    Plotly.newPlot(                        \"83ad1a8c-2b85-440e-ba9a-0b0f7097af63\",                        [{\"name\":\"Evolution du nombre de d\\u00e9c\\u00e8s\",\"x\":[2001,2002,2003,2004,2005,2006,2007,2008,2009,2010,2011,2012,2013,2014,2015,2016,2017,2018,2019,2020,2021],\"y\":[550784,552786,570981,526888,546039,533629,538448,550139,556146,557142,549039,578435,577644,567652,601980,602361,615665,618722,621861,677176,656587],\"type\":\"bar\",\"xaxis\":\"x\",\"yaxis\":\"y\"},{\"name\":\"Evolution de l'\\u00e2ge moyen\",\"x\":[2001,2002,2003,2004,2005,2006,2007,2008,2009,2010,2011,2012,2013,2014,2015,2016,2017,2018,2019,2020,2021],\"y\":[75.26894790916222,75.53492844916478,75.96411752860428,75.59311701595027,76.03145515045628,75.99026920294811,76.29081535654325,76.57894775756672,76.74134442484528,76.99549584522438,77.21532114986367,77.7551389317728,77.89755197128335,78.00057183943684,78.54013152978504,78.69342996093705,79.00885715413415,79.10978685467786,79.29133250034975,79.80124347673278,79.5341520305763],\"type\":\"scatter\",\"xaxis\":\"x\",\"yaxis\":\"y2\"}],                        {\"template\":{\"data\":{\"bar\":[{\"error_x\":{\"color\":\"#2a3f5f\"},\"error_y\":{\"color\":\"#2a3f5f\"},\"marker\":{\"line\":{\"color\":\"#E5ECF6\",\"width\":0.5},\"pattern\":{\"fillmode\":\"overlay\",\"size\":10,\"solidity\":0.2}},\"type\":\"bar\"}],\"barpolar\":[{\"marker\":{\"line\":{\"color\":\"#E5ECF6\",\"width\":0.5},\"pattern\":{\"fillmode\":\"overlay\",\"size\":10,\"solidity\":0.2}},\"type\":\"barpolar\"}],\"carpet\":[{\"aaxis\":{\"endlinecolor\":\"#2a3f5f\",\"gridcolor\":\"white\",\"linecolor\":\"white\",\"minorgridcolor\":\"white\",\"startlinecolor\":\"#2a3f5f\"},\"baxis\":{\"endlinecolor\":\"#2a3f5f\",\"gridcolor\":\"white\",\"linecolor\":\"white\",\"minorgridcolor\":\"white\",\"startlinecolor\":\"#2a3f5f\"},\"type\":\"carpet\"}],\"choropleth\":[{\"colorbar\":{\"outlinewidth\":0,\"ticks\":\"\"},\"type\":\"choropleth\"}],\"contour\":[{\"colorbar\":{\"outlinewidth\":0,\"ticks\":\"\"},\"colorscale\":[[0.0,\"#0d0887\"],[0.1111111111111111,\"#46039f\"],[0.2222222222222222,\"#7201a8\"],[0.3333333333333333,\"#9c179e\"],[0.4444444444444444,\"#bd3786\"],[0.5555555555555556,\"#d8576b\"],[0.6666666666666666,\"#ed7953\"],[0.7777777777777778,\"#fb9f3a\"],[0.8888888888888888,\"#fdca26\"],[1.0,\"#f0f921\"]],\"type\":\"contour\"}],\"contourcarpet\":[{\"colorbar\":{\"outlinewidth\":0,\"ticks\":\"\"},\"type\":\"contourcarpet\"}],\"heatmap\":[{\"colorbar\":{\"outlinewidth\":0,\"ticks\":\"\"},\"colorscale\":[[0.0,\"#0d0887\"],[0.1111111111111111,\"#46039f\"],[0.2222222222222222,\"#7201a8\"],[0.3333333333333333,\"#9c179e\"],[0.4444444444444444,\"#bd3786\"],[0.5555555555555556,\"#d8576b\"],[0.6666666666666666,\"#ed7953\"],[0.7777777777777778,\"#fb9f3a\"],[0.8888888888888888,\"#fdca26\"],[1.0,\"#f0f921\"]],\"type\":\"heatmap\"}],\"heatmapgl\":[{\"colorbar\":{\"outlinewidth\":0,\"ticks\":\"\"},\"colorscale\":[[0.0,\"#0d0887\"],[0.1111111111111111,\"#46039f\"],[0.2222222222222222,\"#7201a8\"],[0.3333333333333333,\"#9c179e\"],[0.4444444444444444,\"#bd3786\"],[0.5555555555555556,\"#d8576b\"],[0.6666666666666666,\"#ed7953\"],[0.7777777777777778,\"#fb9f3a\"],[0.8888888888888888,\"#fdca26\"],[1.0,\"#f0f921\"]],\"type\":\"heatmapgl\"}],\"histogram\":[{\"marker\":{\"pattern\":{\"fillmode\":\"overlay\",\"size\":10,\"solidity\":0.2}},\"type\":\"histogram\"}],\"histogram2d\":[{\"colorbar\":{\"outlinewidth\":0,\"ticks\":\"\"},\"colorscale\":[[0.0,\"#0d0887\"],[0.1111111111111111,\"#46039f\"],[0.2222222222222222,\"#7201a8\"],[0.3333333333333333,\"#9c179e\"],[0.4444444444444444,\"#bd3786\"],[0.5555555555555556,\"#d8576b\"],[0.6666666666666666,\"#ed7953\"],[0.7777777777777778,\"#fb9f3a\"],[0.8888888888888888,\"#fdca26\"],[1.0,\"#f0f921\"]],\"type\":\"histogram2d\"}],\"histogram2dcontour\":[{\"colorbar\":{\"outlinewidth\":0,\"ticks\":\"\"},\"colorscale\":[[0.0,\"#0d0887\"],[0.1111111111111111,\"#46039f\"],[0.2222222222222222,\"#7201a8\"],[0.3333333333333333,\"#9c179e\"],[0.4444444444444444,\"#bd3786\"],[0.5555555555555556,\"#d8576b\"],[0.6666666666666666,\"#ed7953\"],[0.7777777777777778,\"#fb9f3a\"],[0.8888888888888888,\"#fdca26\"],[1.0,\"#f0f921\"]],\"type\":\"histogram2dcontour\"}],\"mesh3d\":[{\"colorbar\":{\"outlinewidth\":0,\"ticks\":\"\"},\"type\":\"mesh3d\"}],\"parcoords\":[{\"line\":{\"colorbar\":{\"outlinewidth\":0,\"ticks\":\"\"}},\"type\":\"parcoords\"}],\"pie\":[{\"automargin\":true,\"type\":\"pie\"}],\"scatter\":[{\"marker\":{\"colorbar\":{\"outlinewidth\":0,\"ticks\":\"\"}},\"type\":\"scatter\"}],\"scatter3d\":[{\"line\":{\"colorbar\":{\"outlinewidth\":0,\"ticks\":\"\"}},\"marker\":{\"colorbar\":{\"outlinewidth\":0,\"ticks\":\"\"}},\"type\":\"scatter3d\"}],\"scattercarpet\":[{\"marker\":{\"colorbar\":{\"outlinewidth\":0,\"ticks\":\"\"}},\"type\":\"scattercarpet\"}],\"scattergeo\":[{\"marker\":{\"colorbar\":{\"outlinewidth\":0,\"ticks\":\"\"}},\"type\":\"scattergeo\"}],\"scattergl\":[{\"marker\":{\"colorbar\":{\"outlinewidth\":0,\"ticks\":\"\"}},\"type\":\"scattergl\"}],\"scattermapbox\":[{\"marker\":{\"colorbar\":{\"outlinewidth\":0,\"ticks\":\"\"}},\"type\":\"scattermapbox\"}],\"scatterpolar\":[{\"marker\":{\"colorbar\":{\"outlinewidth\":0,\"ticks\":\"\"}},\"type\":\"scatterpolar\"}],\"scatterpolargl\":[{\"marker\":{\"colorbar\":{\"outlinewidth\":0,\"ticks\":\"\"}},\"type\":\"scatterpolargl\"}],\"scatterternary\":[{\"marker\":{\"colorbar\":{\"outlinewidth\":0,\"ticks\":\"\"}},\"type\":\"scatterternary\"}],\"surface\":[{\"colorbar\":{\"outlinewidth\":0,\"ticks\":\"\"},\"colorscale\":[[0.0,\"#0d0887\"],[0.1111111111111111,\"#46039f\"],[0.2222222222222222,\"#7201a8\"],[0.3333333333333333,\"#9c179e\"],[0.4444444444444444,\"#bd3786\"],[0.5555555555555556,\"#d8576b\"],[0.6666666666666666,\"#ed7953\"],[0.7777777777777778,\"#fb9f3a\"],[0.8888888888888888,\"#fdca26\"],[1.0,\"#f0f921\"]],\"type\":\"surface\"}],\"table\":[{\"cells\":{\"fill\":{\"color\":\"#EBF0F8\"},\"line\":{\"color\":\"white\"}},\"header\":{\"fill\":{\"color\":\"#C8D4E3\"},\"line\":{\"color\":\"white\"}},\"type\":\"table\"}]},\"layout\":{\"annotationdefaults\":{\"arrowcolor\":\"#2a3f5f\",\"arrowhead\":0,\"arrowwidth\":1},\"autotypenumbers\":\"strict\",\"coloraxis\":{\"colorbar\":{\"outlinewidth\":0,\"ticks\":\"\"}},\"colorscale\":{\"diverging\":[[0,\"#8e0152\"],[0.1,\"#c51b7d\"],[0.2,\"#de77ae\"],[0.3,\"#f1b6da\"],[0.4,\"#fde0ef\"],[0.5,\"#f7f7f7\"],[0.6,\"#e6f5d0\"],[0.7,\"#b8e186\"],[0.8,\"#7fbc41\"],[0.9,\"#4d9221\"],[1,\"#276419\"]],\"sequential\":[[0.0,\"#0d0887\"],[0.1111111111111111,\"#46039f\"],[0.2222222222222222,\"#7201a8\"],[0.3333333333333333,\"#9c179e\"],[0.4444444444444444,\"#bd3786\"],[0.5555555555555556,\"#d8576b\"],[0.6666666666666666,\"#ed7953\"],[0.7777777777777778,\"#fb9f3a\"],[0.8888888888888888,\"#fdca26\"],[1.0,\"#f0f921\"]],\"sequentialminus\":[[0.0,\"#0d0887\"],[0.1111111111111111,\"#46039f\"],[0.2222222222222222,\"#7201a8\"],[0.3333333333333333,\"#9c179e\"],[0.4444444444444444,\"#bd3786\"],[0.5555555555555556,\"#d8576b\"],[0.6666666666666666,\"#ed7953\"],[0.7777777777777778,\"#fb9f3a\"],[0.8888888888888888,\"#fdca26\"],[1.0,\"#f0f921\"]]},\"colorway\":[\"#636efa\",\"#EF553B\",\"#00cc96\",\"#ab63fa\",\"#FFA15A\",\"#19d3f3\",\"#FF6692\",\"#B6E880\",\"#FF97FF\",\"#FECB52\"],\"font\":{\"color\":\"#2a3f5f\"},\"geo\":{\"bgcolor\":\"white\",\"lakecolor\":\"white\",\"landcolor\":\"#E5ECF6\",\"showlakes\":true,\"showland\":true,\"subunitcolor\":\"white\"},\"hoverlabel\":{\"align\":\"left\"},\"hovermode\":\"closest\",\"mapbox\":{\"style\":\"light\"},\"paper_bgcolor\":\"white\",\"plot_bgcolor\":\"#E5ECF6\",\"polar\":{\"angularaxis\":{\"gridcolor\":\"white\",\"linecolor\":\"white\",\"ticks\":\"\"},\"bgcolor\":\"#E5ECF6\",\"radialaxis\":{\"gridcolor\":\"white\",\"linecolor\":\"white\",\"ticks\":\"\"}},\"scene\":{\"xaxis\":{\"backgroundcolor\":\"#E5ECF6\",\"gridcolor\":\"white\",\"gridwidth\":2,\"linecolor\":\"white\",\"showbackground\":true,\"ticks\":\"\",\"zerolinecolor\":\"white\"},\"yaxis\":{\"backgroundcolor\":\"#E5ECF6\",\"gridcolor\":\"white\",\"gridwidth\":2,\"linecolor\":\"white\",\"showbackground\":true,\"ticks\":\"\",\"zerolinecolor\":\"white\"},\"zaxis\":{\"backgroundcolor\":\"#E5ECF6\",\"gridcolor\":\"white\",\"gridwidth\":2,\"linecolor\":\"white\",\"showbackground\":true,\"ticks\":\"\",\"zerolinecolor\":\"white\"}},\"shapedefaults\":{\"line\":{\"color\":\"#2a3f5f\"}},\"ternary\":{\"aaxis\":{\"gridcolor\":\"white\",\"linecolor\":\"white\",\"ticks\":\"\"},\"baxis\":{\"gridcolor\":\"white\",\"linecolor\":\"white\",\"ticks\":\"\"},\"bgcolor\":\"#E5ECF6\",\"caxis\":{\"gridcolor\":\"white\",\"linecolor\":\"white\",\"ticks\":\"\"}},\"title\":{\"x\":0.05},\"xaxis\":{\"automargin\":true,\"gridcolor\":\"white\",\"linecolor\":\"white\",\"ticks\":\"\",\"title\":{\"standoff\":15},\"zerolinecolor\":\"white\",\"zerolinewidth\":2},\"yaxis\":{\"automargin\":true,\"gridcolor\":\"white\",\"linecolor\":\"white\",\"ticks\":\"\",\"title\":{\"standoff\":15},\"zerolinecolor\":\"white\",\"zerolinewidth\":2}}},\"xaxis\":{\"anchor\":\"y\",\"domain\":[0.0,0.94]},\"yaxis\":{\"anchor\":\"x\",\"domain\":[0.0,1.0]},\"yaxis2\":{\"anchor\":\"x\",\"overlaying\":\"y\",\"side\":\"right\"},\"title\":{\"text\":\"Nombre de d\\u00e9c\\u00e8s par mois\"}},                        {\"responsive\": true}                    ).then(function(){\n",
       "                            \n",
       "var gd = document.getElementById('83ad1a8c-2b85-440e-ba9a-0b0f7097af63');\n",
       "var x = new MutationObserver(function (mutations, observer) {{\n",
       "        var display = window.getComputedStyle(gd).display;\n",
       "        if (!display || display === 'none') {{\n",
       "            console.log([gd, 'removed!']);\n",
       "            Plotly.purge(gd);\n",
       "            observer.disconnect();\n",
       "        }}\n",
       "}});\n",
       "\n",
       "// Listen for the removal of the full notebook cells\n",
       "var notebookContainer = gd.closest('#notebook-container');\n",
       "if (notebookContainer) {{\n",
       "    x.observe(notebookContainer, {childList: true});\n",
       "}}\n",
       "\n",
       "// Listen for the clearing of the current output cell\n",
       "var outputEl = gd.closest('.output');\n",
       "if (outputEl) {{\n",
       "    x.observe(outputEl, {childList: true});\n",
       "}}\n",
       "\n",
       "                        })                };                });            </script>        </div>"
      ]
     },
     "metadata": {},
     "output_type": "display_data"
    }
   ],
   "source": [
    "import plotly  \n",
    "import plotly.graph_objs as go\n",
    "from plotly.subplots import make_subplots\n",
    "\n",
    "# Create figure with secondary y-axis\n",
    "fig = make_subplots(specs=[[{\"secondary_y\": True}]])\n",
    "\n",
    "# Add traces\n",
    "fig.add_trace(\n",
    "    go.Bar(x=db_age_moyen[\"year\"], y=db_age_moyen[\"count\"], name=\"Evolution du nombre de décès\"),\n",
    "    secondary_y=False, \n",
    ")\n",
    "\n",
    "fig.add_trace(\n",
    "    go.Scatter(x=db_age_moyen[\"year\"], y=db_age_moyen[\"mean\"], name=\"Evolution de l'âge moyen\"),\n",
    "    secondary_y=True, \n",
    ")\n",
    "\n",
    "# Add figure title\n",
    "fig.update_layout(\n",
    "    title_text=\"Nombre de décès par mois\",\n",
    ")\n",
    "\n",
    "'''# Set x-axis title\n",
    "fig.update_xaxes(title_text=\"% évolution décès par rapport à l'année précédente\")'''\n",
    "\n",
    "'''# Set y-axes titles\n",
    "fig.update_yaxes(title_text=\"<b>Nombre décès par mois</b>\", secondary_y=False)\n",
    "fig.update_yaxes(title_text=\"<b>% par rapport à l'année précédente</b> \", secondary_y=True)'''\n",
    "\n",
    "fig.write_html(\"cartes-inter/pie_chart_evol_deces.html\")\n",
    "\n",
    "\n",
    "fig.show()"
   ]
  },
  {
   "cell_type": "code",
   "execution_count": 18,
   "id": "fc0521bc",
   "metadata": {},
   "outputs": [],
   "source": [
    "### rajouter les décès par pays de naissance"
   ]
  },
  {
   "cell_type": "code",
   "execution_count": 19,
   "id": "e68c535a",
   "metadata": {},
   "outputs": [],
   "source": [
    "### rajouter les décès par ville"
   ]
  },
  {
   "cell_type": "code",
   "execution_count": 21,
   "id": "0431ffd4",
   "metadata": {},
   "outputs": [
    {
     "data": {
      "text/html": [
       "<div>\n",
       "<style scoped>\n",
       "    .dataframe tbody tr th:only-of-type {\n",
       "        vertical-align: middle;\n",
       "    }\n",
       "\n",
       "    .dataframe tbody tr th {\n",
       "        vertical-align: top;\n",
       "    }\n",
       "\n",
       "    .dataframe thead th {\n",
       "        text-align: right;\n",
       "    }\n",
       "</style>\n",
       "<table border=\"1\" class=\"dataframe\">\n",
       "  <thead>\n",
       "    <tr style=\"text-align: right;\">\n",
       "      <th></th>\n",
       "      <th>Unnamed: 0</th>\n",
       "      <th>nom</th>\n",
       "      <th>sexe</th>\n",
       "      <th>date_naiss</th>\n",
       "      <th>dpt_lieu_naiss</th>\n",
       "      <th>ville</th>\n",
       "      <th>pays</th>\n",
       "      <th>date_dc</th>\n",
       "      <th>dpt_lieu_dc</th>\n",
       "      <th>dpt_lieu_deces</th>\n",
       "      <th>date_deces</th>\n",
       "      <th>year</th>\n",
       "      <th>month</th>\n",
       "    </tr>\n",
       "  </thead>\n",
       "  <tbody>\n",
       "    <tr>\n",
       "      <th>3782977</th>\n",
       "      <td>427407</td>\n",
       "      <td>BONNIER*MARIA PEROLINE/</td>\n",
       "      <td>2</td>\n",
       "      <td>19140914</td>\n",
       "      <td>42059</td>\n",
       "      <td>CHAZELLES-SUR-LYON</td>\n",
       "      <td>NaN</td>\n",
       "      <td>20061013.0</td>\n",
       "      <td>42147</td>\n",
       "      <td>306</td>\n",
       "      <td>2006-10-13</td>\n",
       "      <td>2006</td>\n",
       "      <td>200610</td>\n",
       "    </tr>\n",
       "    <tr>\n",
       "      <th>1923226</th>\n",
       "      <td>236128</td>\n",
       "      <td>DELPLA*PAUL MARIE JOSEPH/</td>\n",
       "      <td>1</td>\n",
       "      <td>19350123</td>\n",
       "      <td>33447</td>\n",
       "      <td>SAINT-MEDARD-DE-GUIZIERES</td>\n",
       "      <td>NaN</td>\n",
       "      <td>20030521.0</td>\n",
       "      <td>95210</td>\n",
       "      <td>000000044</td>\n",
       "      <td>2003-05-21</td>\n",
       "      <td>2003</td>\n",
       "      <td>200305</td>\n",
       "    </tr>\n",
       "  </tbody>\n",
       "</table>\n",
       "</div>"
      ],
      "text/plain": [
       "         Unnamed: 0                        nom  sexe  date_naiss  \\\n",
       "3782977      427407    BONNIER*MARIA PEROLINE/     2    19140914   \n",
       "1923226      236128  DELPLA*PAUL MARIE JOSEPH/     1    19350123   \n",
       "\n",
       "        dpt_lieu_naiss                      ville pays     date_dc  \\\n",
       "3782977          42059         CHAZELLES-SUR-LYON  NaN  20061013.0   \n",
       "1923226          33447  SAINT-MEDARD-DE-GUIZIERES  NaN  20030521.0   \n",
       "\n",
       "        dpt_lieu_dc dpt_lieu_deces  date_deces  year   month  \n",
       "3782977       42147            306  2006-10-13  2006  200610  \n",
       "1923226       95210      000000044  2003-05-21  2003  200305  "
      ]
     },
     "execution_count": 21,
     "metadata": {},
     "output_type": "execute_result"
    }
   ],
   "source": [
    "db.sample(2)"
   ]
  },
  {
   "cell_type": "code",
   "execution_count": null,
   "id": "878d6135",
   "metadata": {},
   "outputs": [],
   "source": [
    "db_var"
   ]
  }
 ],
 "metadata": {
  "kernelspec": {
   "display_name": "Python 3 (ipykernel)",
   "language": "python",
   "name": "python3"
  },
  "language_info": {
   "codemirror_mode": {
    "name": "ipython",
    "version": 3
   },
   "file_extension": ".py",
   "mimetype": "text/x-python",
   "name": "python",
   "nbconvert_exporter": "python",
   "pygments_lexer": "ipython3",
   "version": "3.9.7"
  }
 },
 "nbformat": 4,
 "nbformat_minor": 5
}
