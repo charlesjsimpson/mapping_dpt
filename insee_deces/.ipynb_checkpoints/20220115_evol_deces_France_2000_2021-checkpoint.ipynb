{
 "cells": [
  {
   "cell_type": "code",
   "execution_count": 1,
   "id": "3b40887c",
   "metadata": {},
   "outputs": [
    {
     "data": {
      "text/html": [
       "<style>.container { width:100% !important; }</style>"
      ],
      "text/plain": [
       "<IPython.core.display.HTML object>"
      ]
     },
     "metadata": {},
     "output_type": "display_data"
    }
   ],
   "source": [
    "import pandas as pd\n",
    "import matplotlib.pyplot as plt\n",
    "import matplotlib.dates as mdates\n",
    "import matplotlib.pyplot as plt\n",
    "import numpy as np\n",
    "import warnings\n",
    "warnings.filterwarnings(\"ignore\")\n",
    "import dash\n",
    "import dash_core_components as dcc\n",
    "import dash_html_components as html\n",
    "from dash.dependencies import Input, Output\n",
    "import plotly.express as px\n",
    "import plotly.figure_factory as ff\n",
    "import json\n",
    "import geojson\n",
    "import requests\n",
    "import plotly.graph_objs as go\n",
    "import plotly.graph_objects as go\n",
    "\n",
    "from plotly.subplots import make_subplots\n",
    "\n",
    "from IPython.core.display import display, HTML\n",
    "display(HTML(\"<style>.container { width:100% !important; }</style>\"))\n",
    "\n",
    "#%matplotlib notebook\n",
    "pd.options.display.max_columns = 150\n",
    "pd.options.display.max_rows = 2000\n",
    "\n",
    "data_root = '/Users/charlessimpson/Library/Mobile Documents/com~apple~CloudDocs/Documents/WorkspacePython/DATA/SQL/'"
   ]
  },
  {
   "cell_type": "code",
   "execution_count": 2,
   "id": "200ad1d4",
   "metadata": {},
   "outputs": [],
   "source": [
    "df2000=pd.read_csv(\"../csv/deces-2000.csv\", sep=';', encoding='utf-8')\n",
    "df2001=pd.read_csv(\"../csv/deces-2001.csv\", sep=';', encoding='utf-8')\n",
    "df2002=pd.read_csv(\"../csv/deces-2002.csv\", sep=';', encoding='utf-8')\n",
    "df2003=pd.read_csv(\"../csv/deces-2003.csv\", sep=';', encoding='utf-8')\n",
    "df2004=pd.read_csv(\"../csv/deces-2004.csv\", sep=';', encoding='utf-8')\n",
    "df2005=pd.read_csv(\"../csv/deces-2005.csv\", sep=';', encoding='utf-8')\n",
    "df2006=pd.read_csv(\"../csv/deces-2006.csv\", sep=';', encoding='utf-8')\n",
    "df2007=pd.read_csv(\"../csv/deces-2007.csv\", sep=';', encoding='utf-8')\n",
    "df2008=pd.read_csv(\"../csv/deces-2008.csv\", sep=';', encoding='utf-8')\n",
    "df2009=pd.read_csv(\"../csv/deces-2009.csv\", sep=';', encoding='utf-8')\n",
    "df2010=pd.read_csv(\"../csv/deces-2010.csv\", sep=';', encoding='utf-8')\n",
    "df2011=pd.read_csv(\"../csv/deces-2011.csv\", sep=';', encoding='utf-8')\n",
    "df2012=pd.read_csv(\"../csv/deces-2012.csv\", sep=';', encoding='utf-8')\n",
    "df2013=pd.read_csv(\"../csv/deces-2013.csv\", sep=';', encoding='utf-8')\n",
    "df2014=pd.read_csv(\"../csv/deces-2014.csv\", sep=';', encoding='utf-8')\n",
    "df2015=pd.read_csv(\"../csv/deces-2015.csv\", sep=';', encoding='utf-8')\n",
    "df2016=pd.read_csv(\"../csv/deces-2016.csv\", sep=';', encoding='utf-8')\n",
    "df2017=pd.read_csv(\"../csv/deces-2017.csv\", sep=';', encoding='utf-8')\n",
    "df2018=pd.read_csv(\"../csv/deces-2018.csv\", sep=';', encoding='utf-8')\n",
    "df2019=pd.read_csv(\"../csv/deces-2019.csv\", sep=';', encoding='utf-8')\n",
    "df2020 = pd.read_csv('../csv/deces_2020.csv', sep=';', encoding='utf-8')\n",
    "#df2021=df2020\n",
    "df_01_2021 = pd.read_csv('../csv/Deces_2021_M01.csv', sep=';', encoding='utf-8')\n",
    "df_02_2021 = pd.read_csv('../csv/Deces_2021_M02.csv', sep=';', encoding='utf-8')\n",
    "df_03_2021 = pd.read_csv('../csv/Deces_2021_M03.csv', sep=';', encoding='utf-8')\n",
    "df_04_2021 = pd.read_csv('../csv/Deces_2021_M04.csv', sep=';', encoding='utf-8')\n",
    "df_05_2021 = pd.read_csv('../csv/Deces_2021_M05.csv', sep=';', encoding='utf-8')\n",
    "df_06_2021 = pd.read_csv('../csv/Deces_2021_M06.csv', sep=';', encoding='utf-8')\n",
    "df_07_2021 = pd.read_csv('../csv/Deces_2021_M07.csv', sep=';', encoding='utf-8')\n",
    "df_08_2021 = pd.read_csv('../csv/Deces_2021_M08.csv', sep=';', encoding='utf-8')\n",
    "df_09_2021 = pd.read_csv('../csv/Deces_2021_M09.csv', sep=';', encoding='utf-8')\n",
    "df_10_2021 = pd.read_csv('../csv/Deces_2021_M10.csv', sep=';', encoding='utf-8')\n",
    "df_11_2021 = pd.read_csv('../csv/Deces_2021_M11.csv', sep=';', encoding='utf-8')\n",
    "df_12_2021 = pd.read_csv('../csv/Deces_2021_M12.csv', sep=';', encoding='utf-8')\n",
    "\n",
    "\n",
    "# Je concat toutes les BDD\n",
    "data = pd.concat([df2000,df2001,df2002,df2003,df2004,df2005,df2006,df2007,df2008,df2009,df2010,df2011,df2012,df2013,df2014,df2015,df2016,df2017,df2018,df2019,df2020,df_01_2021,df_02_2021,df_03_2021,df_04_2021,df_05_2021,\n",
    "                  df_06_2021,df_07_2021,df_08_2021,df_09_2021,df_10_2021,df_11_2021,df_12_2021])\n"
   ]
  },
  {
   "cell_type": "code",
   "execution_count": 5,
   "id": "d8ac1c75",
   "metadata": {},
   "outputs": [],
   "source": [
    "# Renomage des colonnes\n",
    "db = data.rename(columns={'nomprenom':'nom',\n",
    "                        'datenaiss':'date_naiss',\n",
    "                        'lieunaiss':'dpt_lieu_naiss',\n",
    "                        'sexe':'sexe',\n",
    "                        'commnaiss':'ville',\n",
    "                        'paysnaiss':'pays',\n",
    "                        'datedeces':'date_dc',\n",
    "                        'lieudeces':'dpt_lieu_dc',\n",
    "                        'actedeces':'dpt_lieu_deces'})\n",
    "\n",
    "# Nettoyage du format de la date de décès, pour avoir le mois et l'année au bon format\n",
    "# transformer la data décès au bon format pour manipuler cette donnée \n",
    "db['date_deces']=pd.to_datetime((db.date_dc), format='%Y%m%d', errors='coerce')\n",
    "\n",
    "db=db.dropna(subset=['date_deces'])\n",
    "\n",
    "def year(date_dc):\n",
    "    date_dc = str(date_dc)\n",
    "    return date_dc[:4]\n",
    "db['year'] = db['date_dc'].apply(lambda x : year(x))\n",
    "\n",
    "def month(date_dc):\n",
    "    date_dc = str(date_dc)\n",
    "    return date_dc[:6]\n",
    "db['month'] = db['date_dc'].apply(lambda x : month(x))"
   ]
  },
  {
   "cell_type": "markdown",
   "id": "0aa2ed90",
   "metadata": {},
   "source": [
    "# création du dataset yc Corse"
   ]
  },
  {
   "cell_type": "code",
   "execution_count": 6,
   "id": "200bc92d",
   "metadata": {},
   "outputs": [
    {
     "data": {
      "text/html": [
       "<div>\n",
       "<style scoped>\n",
       "    .dataframe tbody tr th:only-of-type {\n",
       "        vertical-align: middle;\n",
       "    }\n",
       "\n",
       "    .dataframe tbody tr th {\n",
       "        vertical-align: top;\n",
       "    }\n",
       "\n",
       "    .dataframe thead th {\n",
       "        text-align: right;\n",
       "    }\n",
       "</style>\n",
       "<table border=\"1\" class=\"dataframe\">\n",
       "  <thead>\n",
       "    <tr style=\"text-align: right;\">\n",
       "      <th></th>\n",
       "      <th>month</th>\n",
       "      <th>nom</th>\n",
       "    </tr>\n",
       "  </thead>\n",
       "  <tbody>\n",
       "    <tr>\n",
       "      <th>1179</th>\n",
       "      <td>202111</td>\n",
       "      <td>53721</td>\n",
       "    </tr>\n",
       "    <tr>\n",
       "      <th>1180</th>\n",
       "      <td>202112</td>\n",
       "      <td>53135</td>\n",
       "    </tr>\n",
       "  </tbody>\n",
       "</table>\n",
       "</div>"
      ],
      "text/plain": [
       "       month    nom\n",
       "1179  202111  53721\n",
       "1180  202112  53135"
      ]
     },
     "execution_count": 6,
     "metadata": {},
     "output_type": "execute_result"
    }
   ],
   "source": [
    "db_month_db=db.groupby('month')['nom'].count().reset_index()\n",
    "db_month_db.tail(2)"
   ]
  },
  {
   "cell_type": "code",
   "execution_count": 7,
   "id": "def2c392",
   "metadata": {},
   "outputs": [
    {
     "data": {
      "text/html": [
       "<div>\n",
       "<style scoped>\n",
       "    .dataframe tbody tr th:only-of-type {\n",
       "        vertical-align: middle;\n",
       "    }\n",
       "\n",
       "    .dataframe tbody tr th {\n",
       "        vertical-align: top;\n",
       "    }\n",
       "\n",
       "    .dataframe thead th {\n",
       "        text-align: right;\n",
       "    }\n",
       "</style>\n",
       "<table border=\"1\" class=\"dataframe\">\n",
       "  <thead>\n",
       "    <tr style=\"text-align: right;\">\n",
       "      <th></th>\n",
       "      <th>year</th>\n",
       "      <th>nom</th>\n",
       "    </tr>\n",
       "  </thead>\n",
       "  <tbody>\n",
       "    <tr>\n",
       "      <th>123</th>\n",
       "      <td>2017</td>\n",
       "      <td>615667</td>\n",
       "    </tr>\n",
       "    <tr>\n",
       "      <th>124</th>\n",
       "      <td>2018</td>\n",
       "      <td>618723</td>\n",
       "    </tr>\n",
       "    <tr>\n",
       "      <th>125</th>\n",
       "      <td>2019</td>\n",
       "      <td>621863</td>\n",
       "    </tr>\n",
       "    <tr>\n",
       "      <th>126</th>\n",
       "      <td>2020</td>\n",
       "      <td>677181</td>\n",
       "    </tr>\n",
       "    <tr>\n",
       "      <th>127</th>\n",
       "      <td>2021</td>\n",
       "      <td>656588</td>\n",
       "    </tr>\n",
       "  </tbody>\n",
       "</table>\n",
       "</div>"
      ],
      "text/plain": [
       "     year     nom\n",
       "123  2017  615667\n",
       "124  2018  618723\n",
       "125  2019  621863\n",
       "126  2020  677181\n",
       "127  2021  656588"
      ]
     },
     "execution_count": 7,
     "metadata": {},
     "output_type": "execute_result"
    }
   ],
   "source": [
    "db_month_db=db.groupby('year')['nom'].count().reset_index()\n",
    "db_month_db.tail(5)"
   ]
  },
  {
   "cell_type": "code",
   "execution_count": 8,
   "id": "473125f5",
   "metadata": {},
   "outputs": [],
   "source": [
    "db.to_csv(\"../csv/db_deces_2000_2021.csv\", sep=';', encoding='utf-8')"
   ]
  },
  {
   "cell_type": "markdown",
   "id": "7902ef04",
   "metadata": {},
   "source": [
    "# création du dataset hors Corse"
   ]
  },
  {
   "cell_type": "code",
   "execution_count": 9,
   "id": "9c8fe613",
   "metadata": {},
   "outputs": [
    {
     "name": "stdout",
     "output_type": "stream",
     "text": [
      "Nombre de deces cumulés sur la période (12791875, 13)\n"
     ]
    },
    {
     "data": {
      "text/html": [
       "<div>\n",
       "<style scoped>\n",
       "    .dataframe tbody tr th:only-of-type {\n",
       "        vertical-align: middle;\n",
       "    }\n",
       "\n",
       "    .dataframe tbody tr th {\n",
       "        vertical-align: top;\n",
       "    }\n",
       "\n",
       "    .dataframe thead th {\n",
       "        text-align: right;\n",
       "    }\n",
       "</style>\n",
       "<table border=\"1\" class=\"dataframe\">\n",
       "  <thead>\n",
       "    <tr style=\"text-align: right;\">\n",
       "      <th></th>\n",
       "      <th>nom</th>\n",
       "      <th>sexe</th>\n",
       "      <th>date_naiss</th>\n",
       "      <th>dpt_lieu_naiss</th>\n",
       "      <th>ville</th>\n",
       "      <th>pays</th>\n",
       "      <th>date_dc</th>\n",
       "      <th>dpt_lieu_dc</th>\n",
       "      <th>dpt_lieu_deces</th>\n",
       "      <th>date_deces</th>\n",
       "      <th>year</th>\n",
       "      <th>month</th>\n",
       "      <th>departement_number</th>\n",
       "      <th>departement</th>\n",
       "    </tr>\n",
       "  </thead>\n",
       "  <tbody>\n",
       "    <tr>\n",
       "      <th>8414</th>\n",
       "      <td>SAIDI*NORDINE EDMOND/</td>\n",
       "      <td>1</td>\n",
       "      <td>19510222</td>\n",
       "      <td>75</td>\n",
       "      <td>PARIS 14E  ARRONDISSEMENT</td>\n",
       "      <td>NaN</td>\n",
       "      <td>20200101.0</td>\n",
       "      <td>17299</td>\n",
       "      <td>2</td>\n",
       "      <td>2020-01-01</td>\n",
       "      <td>2020</td>\n",
       "      <td>202001</td>\n",
       "      <td>17</td>\n",
       "      <td>Charente-Maritime</td>\n",
       "    </tr>\n",
       "    <tr>\n",
       "      <th>224170</th>\n",
       "      <td>BEGUIN*ANDRE CLAUDIUS ANTOINE/</td>\n",
       "      <td>1</td>\n",
       "      <td>19190909</td>\n",
       "      <td>3</td>\n",
       "      <td>SAINT-GERAND-LE-PUY</td>\n",
       "      <td>NaN</td>\n",
       "      <td>20120401.0</td>\n",
       "      <td>38229</td>\n",
       "      <td>40</td>\n",
       "      <td>2012-04-01</td>\n",
       "      <td>2012</td>\n",
       "      <td>201204</td>\n",
       "      <td>38</td>\n",
       "      <td>Isère</td>\n",
       "    </tr>\n",
       "    <tr>\n",
       "      <th>290190</th>\n",
       "      <td>REDON*GERARD JACKY/</td>\n",
       "      <td>1</td>\n",
       "      <td>19380921</td>\n",
       "      <td>86</td>\n",
       "      <td>SERIGNY</td>\n",
       "      <td>NaN</td>\n",
       "      <td>20100630.0</td>\n",
       "      <td>33227</td>\n",
       "      <td>198</td>\n",
       "      <td>2010-06-30</td>\n",
       "      <td>2010</td>\n",
       "      <td>201006</td>\n",
       "      <td>33</td>\n",
       "      <td>Gironde</td>\n",
       "    </tr>\n",
       "  </tbody>\n",
       "</table>\n",
       "</div>"
      ],
      "text/plain": [
       "                                   nom  sexe  date_naiss  dpt_lieu_naiss  \\\n",
       "8414             SAIDI*NORDINE EDMOND/     1    19510222              75   \n",
       "224170  BEGUIN*ANDRE CLAUDIUS ANTOINE/     1    19190909               3   \n",
       "290190             REDON*GERARD JACKY/     1    19380921              86   \n",
       "\n",
       "                            ville pays     date_dc dpt_lieu_dc dpt_lieu_deces  \\\n",
       "8414    PARIS 14E  ARRONDISSEMENT  NaN  20200101.0       17299              2   \n",
       "224170        SAINT-GERAND-LE-PUY  NaN  20120401.0       38229             40   \n",
       "290190                    SERIGNY  NaN  20100630.0       33227            198   \n",
       "\n",
       "       date_deces  year   month  departement_number        departement  \n",
       "8414   2020-01-01  2020  202001                  17  Charente-Maritime  \n",
       "224170 2012-04-01  2012  201204                  38              Isère  \n",
       "290190 2010-06-30  2010  201006                  33            Gironde  "
      ]
     },
     "execution_count": 9,
     "metadata": {},
     "output_type": "execute_result"
    }
   ],
   "source": [
    "# je récupère le numéro du département à 2 chiffres (attention aux 10 premiers départements)\n",
    "def get_department(postal_code):\n",
    "    postal_code = str(postal_code)\n",
    "    return postal_code[:2]\n",
    "# je récupère les numéros de départements simplifiés pour les décès\n",
    "db['dpt_deces'] = db['dpt_lieu_dc'].apply(lambda x : get_department(x))\n",
    "print(\"Nombre de deces cumulés sur la période\",db.shape)\n",
    "\n",
    "# Nettoyage des numéros de départements pour s'assurer qu'on récupère correctement les 10 premiers départements\n",
    "def non_int_filter(dpt_deces):\n",
    "    try:\n",
    "        return int(dpt_deces)\n",
    "    except:\n",
    "        return 0\n",
    "db['dpt_deces'] = db['dpt_deces'].apply(lambda x : non_int_filter(x))\n",
    "count_db = db.loc[db['dpt_deces']== 0]\n",
    "\n",
    "# je récupère les numéros de départements simplifiés pour les naissance\n",
    "db['dpt_lieu_naiss'] = db['dpt_lieu_naiss'].apply(lambda x : get_department(x))\n",
    "db['dpt_lieu_naiss'] = db['dpt_lieu_naiss'].apply(lambda x : non_int_filter(x))\n",
    "count_db = db.loc[db['dpt_lieu_naiss']== 0]\n",
    "\n",
    "# J'identifie les décès sans département\n",
    "db = db.loc[db['dpt_deces']!= 0] # fonction qui supprimer les lignes sans départements\n",
    "\n",
    "\n",
    "#Suppression des DOMTOM\n",
    "db=db[db['dpt_deces']!=97]\n",
    "db=db[db['dpt_deces']!=98]\n",
    "db=db[db['dpt_deces']!=99]\n",
    "\n",
    "# Je rajoute la BDD des départements pour insérer les noms des départements\n",
    "departements_info = pd.read_excel('../csv/departements-francais.xls')\n",
    "number_to_departement = departements_info.set_index('NUMÉRO')['NOM'].to_dict()\n",
    "\n",
    "# Nettoyage des déparmtents, j'enlève l'outre mer et je rajouter le nom des départements\n",
    "number_to_departement[97] =  'Outre-mer'\n",
    "db = db.rename(columns={'dpt_deces':'departement_number'})\n",
    "db['departement'] = db['departement_number'].apply(lambda x : number_to_departement.get(x, \"\"))\n",
    "wrong_dpt = db[db.departement_number.isin([98, 99])]\n",
    "db = db[~db.departement_number.isin([98, 99])]\n",
    "\n",
    "# je modifie les noms des départements qui ne sont pas correctes\n",
    "db['departement'] = db['departement'].str.replace(\"Val-D'Oise\", \"Val-d'Oise\")\n",
    "db['departement'] = db['departement'].str.replace( 'Seine-St-Denis', \"Seine-Saint-Denis\")\n",
    "db['departement'] = db['departement'].str.replace( \"Côtes d'Armor\", \"Côtes-d'Armor\")\n",
    "db['departement'] = db['departement'].str.replace( \"Vandée\", \"Vendée\")\n",
    "\n",
    "db.sample(3)"
   ]
  },
  {
   "cell_type": "code",
   "execution_count": 10,
   "id": "7ed3077b",
   "metadata": {},
   "outputs": [],
   "source": [
    "db.to_csv(\"../csv/db_deces_2000_2021_hors_corse.csv\", sep=';', encoding='utf-8')"
   ]
  },
  {
   "cell_type": "code",
   "execution_count": 11,
   "id": "f70f4e18",
   "metadata": {},
   "outputs": [
    {
     "data": {
      "text/html": [
       "<div>\n",
       "<style scoped>\n",
       "    .dataframe tbody tr th:only-of-type {\n",
       "        vertical-align: middle;\n",
       "    }\n",
       "\n",
       "    .dataframe tbody tr th {\n",
       "        vertical-align: top;\n",
       "    }\n",
       "\n",
       "    .dataframe thead th {\n",
       "        text-align: right;\n",
       "    }\n",
       "</style>\n",
       "<table border=\"1\" class=\"dataframe\">\n",
       "  <thead>\n",
       "    <tr style=\"text-align: right;\">\n",
       "      <th></th>\n",
       "      <th>year</th>\n",
       "      <th>nom</th>\n",
       "    </tr>\n",
       "  </thead>\n",
       "  <tbody>\n",
       "    <tr>\n",
       "      <th>120</th>\n",
       "      <td>2017</td>\n",
       "      <td>590810</td>\n",
       "    </tr>\n",
       "    <tr>\n",
       "      <th>121</th>\n",
       "      <td>2018</td>\n",
       "      <td>593858</td>\n",
       "    </tr>\n",
       "    <tr>\n",
       "      <th>122</th>\n",
       "      <td>2019</td>\n",
       "      <td>596586</td>\n",
       "    </tr>\n",
       "    <tr>\n",
       "      <th>123</th>\n",
       "      <td>2020</td>\n",
       "      <td>651565</td>\n",
       "    </tr>\n",
       "    <tr>\n",
       "      <th>124</th>\n",
       "      <td>2021</td>\n",
       "      <td>628876</td>\n",
       "    </tr>\n",
       "  </tbody>\n",
       "</table>\n",
       "</div>"
      ],
      "text/plain": [
       "     year     nom\n",
       "120  2017  590810\n",
       "121  2018  593858\n",
       "122  2019  596586\n",
       "123  2020  651565\n",
       "124  2021  628876"
      ]
     },
     "execution_count": 11,
     "metadata": {},
     "output_type": "execute_result"
    }
   ],
   "source": [
    "db_month_db=db.groupby('year')['nom'].count().reset_index()\n",
    "db_month_db.tail(5)"
   ]
  },
  {
   "cell_type": "code",
   "execution_count": 14,
   "id": "f0fd6ec1",
   "metadata": {},
   "outputs": [
    {
     "data": {
      "text/plain": [
       "dtype('O')"
      ]
     },
     "execution_count": 14,
     "metadata": {},
     "output_type": "execute_result"
    }
   ],
   "source": [
    "db.year.dtype"
   ]
  },
  {
   "cell_type": "code",
   "execution_count": 13,
   "id": "c0fac384",
   "metadata": {},
   "outputs": [
    {
     "ename": "KeyError",
     "evalue": "'db'",
     "output_type": "error",
     "traceback": [
      "\u001b[0;31m---------------------------------------------------------------------------\u001b[0m",
      "\u001b[0;31mKeyError\u001b[0m                                  Traceback (most recent call last)",
      "\u001b[0;32m~/opt/anaconda3/lib/python3.9/site-packages/pandas/core/indexes/base.py\u001b[0m in \u001b[0;36mget_loc\u001b[0;34m(self, key, method, tolerance)\u001b[0m\n\u001b[1;32m   3360\u001b[0m             \u001b[0;32mtry\u001b[0m\u001b[0;34m:\u001b[0m\u001b[0;34m\u001b[0m\u001b[0;34m\u001b[0m\u001b[0m\n\u001b[0;32m-> 3361\u001b[0;31m                 \u001b[0;32mreturn\u001b[0m \u001b[0mself\u001b[0m\u001b[0;34m.\u001b[0m\u001b[0m_engine\u001b[0m\u001b[0;34m.\u001b[0m\u001b[0mget_loc\u001b[0m\u001b[0;34m(\u001b[0m\u001b[0mcasted_key\u001b[0m\u001b[0;34m)\u001b[0m\u001b[0;34m\u001b[0m\u001b[0;34m\u001b[0m\u001b[0m\n\u001b[0m\u001b[1;32m   3362\u001b[0m             \u001b[0;32mexcept\u001b[0m \u001b[0mKeyError\u001b[0m \u001b[0;32mas\u001b[0m \u001b[0merr\u001b[0m\u001b[0;34m:\u001b[0m\u001b[0;34m\u001b[0m\u001b[0;34m\u001b[0m\u001b[0m\n",
      "\u001b[0;32m~/opt/anaconda3/lib/python3.9/site-packages/pandas/_libs/index.pyx\u001b[0m in \u001b[0;36mpandas._libs.index.IndexEngine.get_loc\u001b[0;34m()\u001b[0m\n",
      "\u001b[0;32m~/opt/anaconda3/lib/python3.9/site-packages/pandas/_libs/index.pyx\u001b[0m in \u001b[0;36mpandas._libs.index.IndexEngine.get_loc\u001b[0;34m()\u001b[0m\n",
      "\u001b[0;32mpandas/_libs/hashtable_class_helper.pxi\u001b[0m in \u001b[0;36mpandas._libs.hashtable.PyObjectHashTable.get_item\u001b[0;34m()\u001b[0m\n",
      "\u001b[0;32mpandas/_libs/hashtable_class_helper.pxi\u001b[0m in \u001b[0;36mpandas._libs.hashtable.PyObjectHashTable.get_item\u001b[0;34m()\u001b[0m\n",
      "\u001b[0;31mKeyError\u001b[0m: 'db'",
      "\nThe above exception was the direct cause of the following exception:\n",
      "\u001b[0;31mKeyError\u001b[0m                                  Traceback (most recent call last)",
      "\u001b[0;32m/var/folders/jc/3qg1nkj56rv6tqfk6ss6bv5r0000gn/T/ipykernel_1556/1757710821.py\u001b[0m in \u001b[0;36m<module>\u001b[0;34m\u001b[0m\n\u001b[0;32m----> 1\u001b[0;31m \u001b[0mdb_var\u001b[0m\u001b[0;34m=\u001b[0m\u001b[0mdb\u001b[0m\u001b[0;34m[\u001b[0m\u001b[0mdb\u001b[0m\u001b[0;34m[\u001b[0m\u001b[0;34m'db'\u001b[0m\u001b[0;34m]\u001b[0m\u001b[0;34m==\u001b[0m\u001b[0;34m'var'\u001b[0m\u001b[0;34m]\u001b[0m\u001b[0;34m\u001b[0m\u001b[0;34m\u001b[0m\u001b[0m\n\u001b[0m",
      "\u001b[0;32m~/opt/anaconda3/lib/python3.9/site-packages/pandas/core/frame.py\u001b[0m in \u001b[0;36m__getitem__\u001b[0;34m(self, key)\u001b[0m\n\u001b[1;32m   3456\u001b[0m             \u001b[0;32mif\u001b[0m \u001b[0mself\u001b[0m\u001b[0;34m.\u001b[0m\u001b[0mcolumns\u001b[0m\u001b[0;34m.\u001b[0m\u001b[0mnlevels\u001b[0m \u001b[0;34m>\u001b[0m \u001b[0;36m1\u001b[0m\u001b[0;34m:\u001b[0m\u001b[0;34m\u001b[0m\u001b[0;34m\u001b[0m\u001b[0m\n\u001b[1;32m   3457\u001b[0m                 \u001b[0;32mreturn\u001b[0m \u001b[0mself\u001b[0m\u001b[0;34m.\u001b[0m\u001b[0m_getitem_multilevel\u001b[0m\u001b[0;34m(\u001b[0m\u001b[0mkey\u001b[0m\u001b[0;34m)\u001b[0m\u001b[0;34m\u001b[0m\u001b[0;34m\u001b[0m\u001b[0m\n\u001b[0;32m-> 3458\u001b[0;31m             \u001b[0mindexer\u001b[0m \u001b[0;34m=\u001b[0m \u001b[0mself\u001b[0m\u001b[0;34m.\u001b[0m\u001b[0mcolumns\u001b[0m\u001b[0;34m.\u001b[0m\u001b[0mget_loc\u001b[0m\u001b[0;34m(\u001b[0m\u001b[0mkey\u001b[0m\u001b[0;34m)\u001b[0m\u001b[0;34m\u001b[0m\u001b[0;34m\u001b[0m\u001b[0m\n\u001b[0m\u001b[1;32m   3459\u001b[0m             \u001b[0;32mif\u001b[0m \u001b[0mis_integer\u001b[0m\u001b[0;34m(\u001b[0m\u001b[0mindexer\u001b[0m\u001b[0;34m)\u001b[0m\u001b[0;34m:\u001b[0m\u001b[0;34m\u001b[0m\u001b[0;34m\u001b[0m\u001b[0m\n\u001b[1;32m   3460\u001b[0m                 \u001b[0mindexer\u001b[0m \u001b[0;34m=\u001b[0m \u001b[0;34m[\u001b[0m\u001b[0mindexer\u001b[0m\u001b[0;34m]\u001b[0m\u001b[0;34m\u001b[0m\u001b[0;34m\u001b[0m\u001b[0m\n",
      "\u001b[0;32m~/opt/anaconda3/lib/python3.9/site-packages/pandas/core/indexes/base.py\u001b[0m in \u001b[0;36mget_loc\u001b[0;34m(self, key, method, tolerance)\u001b[0m\n\u001b[1;32m   3361\u001b[0m                 \u001b[0;32mreturn\u001b[0m \u001b[0mself\u001b[0m\u001b[0;34m.\u001b[0m\u001b[0m_engine\u001b[0m\u001b[0;34m.\u001b[0m\u001b[0mget_loc\u001b[0m\u001b[0;34m(\u001b[0m\u001b[0mcasted_key\u001b[0m\u001b[0;34m)\u001b[0m\u001b[0;34m\u001b[0m\u001b[0;34m\u001b[0m\u001b[0m\n\u001b[1;32m   3362\u001b[0m             \u001b[0;32mexcept\u001b[0m \u001b[0mKeyError\u001b[0m \u001b[0;32mas\u001b[0m \u001b[0merr\u001b[0m\u001b[0;34m:\u001b[0m\u001b[0;34m\u001b[0m\u001b[0;34m\u001b[0m\u001b[0m\n\u001b[0;32m-> 3363\u001b[0;31m                 \u001b[0;32mraise\u001b[0m \u001b[0mKeyError\u001b[0m\u001b[0;34m(\u001b[0m\u001b[0mkey\u001b[0m\u001b[0;34m)\u001b[0m \u001b[0;32mfrom\u001b[0m \u001b[0merr\u001b[0m\u001b[0;34m\u001b[0m\u001b[0;34m\u001b[0m\u001b[0m\n\u001b[0m\u001b[1;32m   3364\u001b[0m \u001b[0;34m\u001b[0m\u001b[0m\n\u001b[1;32m   3365\u001b[0m         \u001b[0;32mif\u001b[0m \u001b[0mis_scalar\u001b[0m\u001b[0;34m(\u001b[0m\u001b[0mkey\u001b[0m\u001b[0;34m)\u001b[0m \u001b[0;32mand\u001b[0m \u001b[0misna\u001b[0m\u001b[0;34m(\u001b[0m\u001b[0mkey\u001b[0m\u001b[0;34m)\u001b[0m \u001b[0;32mand\u001b[0m \u001b[0;32mnot\u001b[0m \u001b[0mself\u001b[0m\u001b[0;34m.\u001b[0m\u001b[0mhasnans\u001b[0m\u001b[0;34m:\u001b[0m\u001b[0;34m\u001b[0m\u001b[0;34m\u001b[0m\u001b[0m\n",
      "\u001b[0;31mKeyError\u001b[0m: 'db'"
     ]
    }
   ],
   "source": [
    "db_var=db[db['db']=='var']"
   ]
  },
  {
   "cell_type": "code",
   "execution_count": null,
   "id": "2cf59b62",
   "metadata": {},
   "outputs": [],
   "source": []
  }
 ],
 "metadata": {
  "kernelspec": {
   "display_name": "Python 3 (ipykernel)",
   "language": "python",
   "name": "python3"
  },
  "language_info": {
   "codemirror_mode": {
    "name": "ipython",
    "version": 3
   },
   "file_extension": ".py",
   "mimetype": "text/x-python",
   "name": "python",
   "nbconvert_exporter": "python",
   "pygments_lexer": "ipython3",
   "version": "3.9.7"
  }
 },
 "nbformat": 4,
 "nbformat_minor": 5
}
